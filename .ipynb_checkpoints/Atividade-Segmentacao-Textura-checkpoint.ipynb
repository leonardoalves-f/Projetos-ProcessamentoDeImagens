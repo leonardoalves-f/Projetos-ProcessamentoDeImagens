{
 "cells": [
  {
   "cell_type": "markdown",
   "metadata": {},
   "source": [
    "# Introdução\n",
    "\n",
    "Atividade produzida para a disciplina EBM116 – Tópicos Avançados em Imagens Médicas do programa de pós-graduação em Engenharia Biomédica da Universidade Federal do ABC (UFABC). O objetivo da atividade foi explorar diferentes medidas relacionadas à segmentação e à textura de imagens.\n",
    "\n",
    "Autor: Leonardo Alves Ferreira"
   ]
  },
  {
   "cell_type": "markdown",
   "metadata": {},
   "source": [
    "# Sumário\n",
    "\n",
    "1. Segmentação <br>\n",
    "    1.1 [Sobreposição de Volume e Medida de Similaridade de Dice](#ex1) <br>\n",
    "    1.2 [Distância de Hausdorff](#ex2) <br>\n",
    "2. Textura <br>\n",
    "    2.1 [Matriz de Coocorrência](#ex3) <br>\n",
    "    2.2 [Contraste](#ex4) <br>"
   ]
  },
  {
   "cell_type": "markdown",
   "metadata": {},
   "source": [
    "# Segmentação\n",
    "\n",
    "## Sobreposição de Volume e Medida de Similaridade de Dice <a name=\"ex1\"></a>\n",
    "\n",
    "Iremos analisar as medidas de sobreposição de volume (VOE, do inglês <i>Volume Overlap</i>) e de medida de similaridade de Dice (DSM, do inglês <i>Dice Similarity Measura</i>) para a seguinte imagem:\n",
    "\n",
    "<img src=\"img_voe_dsm.png\" width=\"300\">\n",
    "\n",
    "Nela, os pixeis em vermelho correspondem exclusivamente à máscara obtida em uma segmentação manual; os em azul correspondem exclusivamente à máscara obtida em uma segmentação automática; e os em amarelo correspondem à area em que as duas máscaras se sobrepoem. Nesse caso, considerando que a máscara obtida na segmentação manual é nosso <i>ground truth</i>, podemos utilizar as medidas VOE e DSM para avaliar a efetividade do algoritmo de segmentação automática.\n",
    "\n",
    "A VOE é dada por:\n",
    "\n",
    "\\begin{equation*}\n",
    "VOE = 100\\% \\frac{V_m \\cap V_a}{V_m \\cup V_a},\n",
    "\\end{equation*}\n",
    "\n",
    "onde $V_m$ é o volume da região segmentada manualmente e $V_a$ o da segmentada pelo algoritmo automático. Contando os pixeis da imagem, temos que:\n",
    "* $V_m \\cap V_a = 5$\n",
    "* $V_m \\cup V_a = 16$\n",
    "\n",
    "Logo:"
   ]
  },
  {
   "cell_type": "code",
   "execution_count": 1,
   "metadata": {},
   "outputs": [
    {
     "name": "stdout",
     "output_type": "stream",
     "text": [
      "VOE = 31.25 %\n"
     ]
    }
   ],
   "source": [
    "print(f\"VOE = {100*5/16} %\")"
   ]
  },
  {
   "cell_type": "markdown",
   "metadata": {},
   "source": [
    "Já a DSM é dada por:\n",
    "\n",
    "\\begin{equation*}\n",
    "DSM = 2\\frac{V_m \\cap V_a}{V_m + V_a}.\n",
    "\\end{equation*}\n",
    "\n",
    "Contando os pixeis da imagem, temos que:\n",
    "* $V_m + V_a = 14 + 7 = 21$\n",
    "\n",
    "Logo:"
   ]
  },
  {
   "cell_type": "code",
   "execution_count": 2,
   "metadata": {},
   "outputs": [
    {
     "name": "stdout",
     "output_type": "stream",
     "text": [
      "DSM = 0.48\n"
     ]
    }
   ],
   "source": [
    "print(f\"DSM = {2*5/21:.2f}\")"
   ]
  },
  {
   "cell_type": "markdown",
   "metadata": {},
   "source": [
    "## Distância de Hausdorff <a name=\"ex2\"></a>\n",
    "\n",
    "Dado dois conjuntos de pontos, A e B, a distância de Hausdorff de A para B é a distância máxima dos pontos de A para o ponto mais próximo de B. Essa medida é dada pela equação:\n",
    "\n",
    "\\begin{equation*}\n",
    "h(A,B) = max_{a \\in A}[ min_{b \\in B}[d(a,b)]],\n",
    "\\end{equation*}\n",
    "\n",
    "onde $d(a,b)$ é alguma medida de distância escolhida, como por exemplo a distância Euclidiana.\n",
    "\n",
    "Iremos calcular h(A,B) e h(B,A) para os conjuntos de pontos da seguinte figura:\n",
    "\n",
    "<img src=\"hausdorff_1.png\" width=\"300\">\n",
    "\n",
    "Nela, os pontos em vermelho pertencem ao conjunto A, enquanto os em azul ao conjunto B. Para calcular a distância de Hausdorff manualmente, um passo que pode facilitar é a organização dos valores de distância em uma tabela, conforme a construida a seguir:\n",
    "\n",
    "| $d$      | $b_1$        | $b_2$        | $min(a)$ |\n",
    "|----------|--------------|--------------|----------|\n",
    "| $a_1$    | $d(a_1,b_1)$ | $d(a_1,b_2)$ |          |\n",
    "| $a_2$    | $d(a_2,b_1)$ | $d(a_2,b_2)$ |          |\n",
    "| $a_3$    | $d(a_3,b_1)$ | $d(a_3,b_2)$ |          |\n",
    "| $min(b)$ |              |              |          |\n",
    "\n",
    "Pegando as coordenadas da imagem, temos:\n",
    "* $a_1 = (0,1)$\n",
    "* $a_2 = (0,2)$\n",
    "* $a_3 = (1,4)$\n",
    "* $b_1 = (2,1)$\n",
    "* $b_2 = (4,3)$\n",
    "\n",
    "Utilizando a fórmula da distância Euclidiana, podemos calcular as distâncias da tabela:"
   ]
  },
  {
   "cell_type": "code",
   "execution_count": 3,
   "metadata": {},
   "outputs": [
    {
     "name": "stdout",
     "output_type": "stream",
     "text": [
      "d(a1,b1) = 2.00\n",
      "d(a1,b2) = 4.47\n",
      "d(a2,b1) = 2.24\n",
      "d(a2,b2) = 4.12\n",
      "d(a3,b1) = 3.16\n",
      "d(a3,b2) = 3.16\n"
     ]
    }
   ],
   "source": [
    "import numpy as np\n",
    "\n",
    "print(f\"d(a1,b1) = {np.sqrt((0-2)**2 + (1-1)**2):.2f}\")\n",
    "print(f\"d(a1,b2) = {np.sqrt((0-4)**2 + (1-3)**2):.2f}\")\n",
    "print(f\"d(a2,b1) = {np.sqrt((0-2)**2 + (2-1)**2):.2f}\")\n",
    "print(f\"d(a2,b2) = {np.sqrt((0-4)**2 + (2-3)**2):.2f}\")\n",
    "print(f\"d(a3,b1) = {np.sqrt((1-2)**2 + (4-1)**2):.2f}\")\n",
    "print(f\"d(a3,b2) = {np.sqrt((1-4)**2 + (4-3)**2):.2f}\")"
   ]
  },
  {
   "cell_type": "markdown",
   "metadata": {},
   "source": [
    "Substituindo esses valores na tabela, temos:\n",
    "\n",
    "| $d$      | $b_1$   | $b_2$   | $min(a)$ |\n",
    "|----------|---------|---------|----------|\n",
    "| $a_1$    | $2.00$  | $4.47$  | $2.00$   |\n",
    "| $a_2$    | $2.24$  | $4.12$  | $2.24$   |\n",
    "| $a_3$    | $3.16$  | $3.16$  | $3.16$   |\n",
    "| $min(b)$ | $2.00$  | $3.16$  |          |\n",
    "\n",
    "Com isso, temos que as distâncias de Hausdorff são:\n",
    "\n",
    "* h(A,B) = max(min(a)) = 3.16\n",
    "* h(B,A) = max(min(b)) = 3.16\n",
    "\n",
    "Podemos também criar uma função para automatizar esses cálculos, como demonstrado a seguir:"
   ]
  },
  {
   "cell_type": "code",
   "execution_count": 4,
   "metadata": {},
   "outputs": [],
   "source": [
    "def hausdorff(a,b):\n",
    "    min_a=[]\n",
    "\n",
    "    for c_a in a:\n",
    "        d_ca = []\n",
    "        \n",
    "        for c_b in b:\n",
    "            d_ca.append(np.sqrt((c_a[0]-c_b[0])**2 + (c_a[1]-c_b[1])**2))\n",
    "            \n",
    "        min_a.append(np.min(np.array(d_ca)))\n",
    "        \n",
    "    h = np.max(np.array(min_a))\n",
    "    \n",
    "    return h"
   ]
  },
  {
   "cell_type": "markdown",
   "metadata": {},
   "source": [
    "Usando essa função nas coordenadas do exemplo, obtemos:"
   ]
  },
  {
   "cell_type": "code",
   "execution_count": 5,
   "metadata": {},
   "outputs": [
    {
     "name": "stdout",
     "output_type": "stream",
     "text": [
      "h(A,B) = 3.16\n",
      "h(B,A) = 3.16\n"
     ]
    }
   ],
   "source": [
    "# Codificar as coordenadas\n",
    "a = np.array([(0,1),(0,2),(1,4)])\n",
    "b = np.array([(2,1),(4,3)])\n",
    "\n",
    "# Realizar os cálculos das distâncias de Hausdorff\n",
    "h_ab = hausdorff(a,b)\n",
    "h_ba = hausdorff(b,a)\n",
    "\n",
    "print(f\"h(A,B) = {h_ab:.2f}\")\n",
    "print(f\"h(B,A) = {h_ba:.2f}\")"
   ]
  },
  {
   "cell_type": "markdown",
   "metadata": {},
   "source": [
    "Como pode ser visto, obtivemos o mesmo resultado dos cálculos manuais. Para garantir que os dois estão corretos, podemos verificar usando a função directed_hausdorff implementada na biblioteca Scipy:"
   ]
  },
  {
   "cell_type": "code",
   "execution_count": 6,
   "metadata": {},
   "outputs": [
    {
     "name": "stdout",
     "output_type": "stream",
     "text": [
      "h(A,B) = 3.16\n",
      "h(B,A) = 3.16\n"
     ]
    }
   ],
   "source": [
    "from scipy.spatial.distance import directed_hausdorff\n",
    "\n",
    "# Realizar os cálculos das distâncias de Hausdorff\n",
    "h_ab = directed_hausdorff(a,b)\n",
    "h_ba = directed_hausdorff(b,a)\n",
    "\n",
    "print(f\"h(A,B) = {h_ab[0]:.2f}\")\n",
    "print(f\"h(B,A) = {h_ba[0]:.2f}\")"
   ]
  },
  {
   "cell_type": "markdown",
   "metadata": {},
   "source": [
    "Novamente, os mesmos resultados foram obtidos.\n",
    "\n",
    "Considerando a adição de um novo ponto (-1,3) no conjunto A, teriamos a figura:\n",
    "\n",
    "<img src=\"hausdorff_2.png\" width=\"300\">\n",
    "\n",
    "Realizando novamente os cálculos para esse novo conjunto A obtemos, utilizando a função que implementamos, os seguintes resultados:"
   ]
  },
  {
   "cell_type": "code",
   "execution_count": 7,
   "metadata": {},
   "outputs": [
    {
     "name": "stdout",
     "output_type": "stream",
     "text": [
      "h(A,B) = 3.61\n",
      "h(B,A) = 3.16\n"
     ]
    }
   ],
   "source": [
    "# Codificar o novo conjunto A\n",
    "a = np.array([(-1,3),(0,1),(0,2),(1,4)])\n",
    "\n",
    "# Realizar os cálculos das distâncias de Hausdorff\n",
    "h_ab = hausdorff(a,b)\n",
    "h_ba = hausdorff(b,a)\n",
    "\n",
    "print(f\"h(A,B) = {h_ab:.2f}\")\n",
    "print(f\"h(B,A) = {h_ba:.2f}\")"
   ]
  },
  {
   "cell_type": "markdown",
   "metadata": {},
   "source": [
    "Como pode ser visto, essa alteração no conjunto A resultou em alteração apenas na distância de Hausdorff de A para B. Isso ocorreu porque o ponto adicionado é o novo mais distante dos pontos do conjunto B. Logo, a nova distância de Hausdorff foi a distância entre ele e o ponto de B mais próximo a ele, resultando em um novo valor. \n",
    "\n",
    "Já no caso da distância de Hausdorff de B para A, esse novo ponto não afeta o cálculo, uma vez que são consideradas a distância dos pontos de B para os pontos mais próximos deles em A, e, como dito anteriormente, esse novo ponto é o mais distante de todos os pontos de B. "
   ]
  },
  {
   "cell_type": "markdown",
   "metadata": {},
   "source": [
    "# Textura\n",
    "\n",
    "## Matriz de Coocorrência <a name=\"ex3\"></a>"
   ]
  },
  {
   "cell_type": "markdown",
   "metadata": {},
   "source": [
    "Para calcular a matriz de coocorrência, iremos utilizar de exemplo a a imagem dada pela matriz:\n",
    "\n",
    "\\begin{equation*}\n",
    "I=\\begin{bmatrix}\n",
    "1 & 2 & 1 & 8 & 7 & 6\\\\ \n",
    "1 & 4 & 7 & 3 & 8 & 2\\\\ \n",
    "8 & 8 & 4 & 5 & 4 & 3\\\\ \n",
    "4 & 3 & 4 & 5 & 5 & 1\\\\ \n",
    "7 & 8 & 6 & 2 & 6 & 2\\\\ \n",
    "8 & 7 & 8 & 7 & 6 & 2\n",
    "\\end{bmatrix}\n",
    "\\end{equation*}\n",
    "\n",
    "Primeiramente, iremos reduzir o número de níveis de cinza da imagem de 3 bit para 2 bit utilizando a regra: {1,2} -> {1}; {3,4} -> {2}; {5,6} -> {3}; {7,8} -> {4}. Com isso, obtemos a matriz:\n",
    "\n",
    "\\begin{equation*}\n",
    "J=\\begin{bmatrix}\n",
    "1 & 1 & 1 & 4 & 4 & 3\\\\ \n",
    "1 & 2 & 4 & 2 & 4 & 1\\\\ \n",
    "4 & 4 & 2 & 3 & 2 & 2\\\\ \n",
    "2 & 2 & 2 & 3 & 3 & 1\\\\ \n",
    "4 & 4 & 3 & 1 & 3 & 1\\\\ \n",
    "4 & 4 & 4 & 4 & 3 & 1\n",
    "\\end{bmatrix}\n",
    "\\end{equation*}\n",
    "\n",
    "Para calcular a matriz de coocorrência, devemos escolher uma regra $Q=[l,c]$, onde $l$ é a distância do pixel para o seu vizinho nas linhas, e $c$ a distância nas colunas. Escolhendo uma regra $Q=[1,0]$, por exemplo, o elemento $G(1,2)$ da matriz de coocorrência será o número de pixels 1 na imagem que tem o pixel 2 na linha imediatamente abaixo. Aplicando essa regra para a imagem toda, obtemos a matriz apresentada na seguinte figura (elaborada pelo autor):\n",
    "\n",
    "<img src=\"glcm_1.png\" width=\"300\">\n",
    "\n",
    "Nessa figura, a matriz é dada pela região dentro das bordas vermelhas, e os números em cinza no exterior são os índices para facilitar o cálculo.\n",
    "\n",
    "A matriz de probabilidade correspondente a essa matriz de coocorrência pode ser calculando, com o elemento $P(i,j)$ sendo dado por $\\frac{G(i,J)}{N}$, onde $N$ é a somatória de todos os valores da matriz G. Somando os valores da matriz apresentada na imagem acima, temos que $N=30$. Logo, a matriz de propabilidade é:\n",
    "\n"
   ]
  },
  {
   "cell_type": "code",
   "execution_count": 11,
   "metadata": {},
   "outputs": [
    {
     "name": "stdout",
     "output_type": "stream",
     "text": [
      "O resultado da matriz P é:\n",
      "\n",
      "[[0.1  0.07 0.   0.1 ]\n",
      " [0.03 0.03 0.1  0.07]\n",
      " [0.07 0.   0.1  0.03]\n",
      " [0.   0.17 0.   0.1 ]]\n"
     ]
    }
   ],
   "source": [
    "# Matriz de coocorrência\n",
    "G = np.array([[3,2,0,3],[1,1,3,2],[2,0,3,1],[0,5,0,3]])\n",
    "\n",
    "N = 3+2+0+3+1+1+3+2+2+0+3+1+0+5+0+3\n",
    "\n",
    "# Matriz de probabilidade\n",
    "P = G/N\n",
    "print(\"O resultado da matriz P é:\\n\")\n",
    "print(np.round(P,2))"
   ]
  },
  {
   "cell_type": "markdown",
   "metadata": {},
   "source": [
    "Podemos checar esses cálculos utilizando as funções greycomatrix e greycoprops, implementadas na biblioteca Skimage. Para definir a regra Q na função greycomatrix, é preciso definir um número de distância e um número de ângulo. Como estamos utilizando a regra do pixel imediatamente abaixo, isso corresponde a uma distância de 1 e um ângulo de 90º (porque em imagens, a linha de baixo é considerada como sendo a direção indo para cima no eixo y), conforme feito abaixo:"
   ]
  },
  {
   "cell_type": "code",
   "execution_count": 10,
   "metadata": {},
   "outputs": [
    {
     "name": "stdout",
     "output_type": "stream",
     "text": [
      "I = \n",
      "\n",
      "[[1 2 1 8 7 6]\n",
      " [1 4 7 3 8 2]\n",
      " [8 8 4 5 4 3]\n",
      " [4 3 4 5 5 1]\n",
      " [7 8 6 2 6 2]\n",
      " [8 7 8 7 6 2]]\n",
      "\n",
      "J = \n",
      "\n",
      "[[1 1 1 4 4 3]\n",
      " [1 2 4 2 4 1]\n",
      " [4 4 2 3 2 2]\n",
      " [2 2 2 3 3 1]\n",
      " [4 4 3 1 3 1]\n",
      " [4 4 4 4 3 1]]\n",
      "\n",
      "G = \n",
      "\n",
      "[[3 2 0 3]\n",
      " [1 1 3 3]\n",
      " [2 0 3 1]\n",
      " [0 5 0 3]]\n",
      "\n",
      "P = \n",
      "\n",
      "[[0.1  0.07 0.   0.1 ]\n",
      " [0.03 0.03 0.1  0.1 ]\n",
      " [0.07 0.   0.1  0.03]\n",
      " [0.   0.17 0.   0.1 ]]\n"
     ]
    }
   ],
   "source": [
    "from skimage.feature import greycomatrix\n",
    "\n",
    "# Codificação da matriz original\n",
    "I = np.array([[1,2,1,8,7,6],[1,4,7,3,8,2],[8,8,4,5,4,3],[4,3,4,5,5,1],[7,8,6,2,6,2],[8,7,8,7,6,2]])\n",
    "print(\"I = \\n\")\n",
    "print(I)\n",
    "\n",
    "# Diminuição do número de levels da matriz\n",
    "J = (I+1) // 2\n",
    "print(\"\\nJ = \\n\")\n",
    "print(J)\n",
    "\n",
    "# Cálculo da matriz de coocorrência\n",
    "G = greycomatrix(J,distances=[1],angles=[np.pi/2],levels=5)\n",
    "G = np.squeeze(G) # Remover dimensão singleton\n",
    "G = G[1:,1:] # Remover a linha e coluna correpondendo ao índice 0\n",
    "print(\"\\nG = \\n\")\n",
    "print(G)\n",
    "\n",
    "# Cálculo da matriz de probabilidade\n",
    "P = G / np.sum(G)\n",
    "print(\"\\nP = \\n\")\n",
    "print(np.round(P,2))"
   ]
  },
  {
   "cell_type": "markdown",
   "metadata": {},
   "source": [
    "Como pode ser visto, os resultados da função são os mesmos obtidos pelos cálculos manuais, mostrando que os procedimentos foram realizados corretamente."
   ]
  },
  {
   "cell_type": "markdown",
   "metadata": {},
   "source": [
    "## Contraste <a name=\"ex4\"></a>\n",
    "\n",
    "Iremos agora calcular o contraste para a imagem dada pela matriz:\n",
    "\n",
    "\\begin{equation*}\n",
    "I=\\begin{bmatrix}\n",
    "0 & 1 & 0 & 3 \\\\ \n",
    "2 & 0 & 1 & 1 \\\\ \n",
    "0 & 3 & 3 & 2 \\\\ \n",
    "3 & 2 & 2 & 1 \n",
    "\\end{bmatrix}\n",
    "\\end{equation*}\n",
    "\n",
    "Para isso, utilizaremos duas regras distintas:\n",
    "* $Q_1:$ q é o pixel diretamente ao lado direito.\n",
    "* $Q_2:$ q é o pixel abaixo.\n",
    "\n",
    "No primeiro caso, contabilizando os elementos obtemos a matriz:\n",
    "\n",
    "<img src=\"glcm_21.png\" width=\"300\">\n",
    "\n",
    "Já no segundo caso, o resultado é de:\n",
    "\n",
    "<img src=\"glcm_22.png\" width=\"300\">\n",
    "\n",
    "Os valores de contraste podem ser calculados por meio da equação:\n",
    "\n",
    "\\begin{equation*}\n",
    "C = \\sum_{i=1}^{K} \\sum_{j=1}^{K} (i-j)^2 p_{ij} = \\frac{1}{N}\\sum_{i=1}^{K} \\sum_{j=1}^{K} (i-j)^2 g_{ij},\n",
    "\\end{equation*}\n",
    "\n",
    "onde $K$ é o número de levels de cinza da imagem, $p_{ij}$ é a probabilidade da matriz de coocorrência e N é a soma dos valores das matrizes de coocorrência. Nesse caso, somando todos os elementos, temos que $N=12$. Logo, calculando o contraste de cada caso obtemos que:"
   ]
  },
  {
   "cell_type": "code",
   "execution_count": 7,
   "metadata": {},
   "outputs": [
    {
     "name": "stdout",
     "output_type": "stream",
     "text": [
      "O contraste da imagem utilizando a regra 1 é C1 = 2.25 e o considerando a regra 2 é C2 = 3.67.\n"
     ]
    }
   ],
   "source": [
    "N=12\n",
    "\n",
    "# Cálculo de C1, explicitando apenas os termos diferentes de 0\n",
    "C1 = (1/N)*((0-1)**2*2 + (0-3)**2*2 + (1-0)**2*1 + (2-0)**2*1 + (2-1)**2*1 + (3-2)**2*1)\n",
    "\n",
    "# Cálculo de C2, explicitando apenas os termos diferentes de 0\n",
    "C2 = (1/N)*((0-1)**2*1 + (0-2)**2*2 + (0-3)**2*2 + (1-0)**2*1 + (1-2)**2*1 + (1-3)**2*1 + (2-0)**2*1 \\\n",
    "            + (2-1)**2*1 + (3-1)**2*1 + (3-2)**2*2)\n",
    "\n",
    "print(f\"O contraste da imagem utilizando a regra 1 é C1 = {C1:.2f} e o considerando a regra 2 é C2 = {C2:.2f}.\")"
   ]
  },
  {
   "cell_type": "markdown",
   "metadata": {},
   "source": [
    "Como pode-se ver, o primeiro caso resultou em um contraste menor. Isso ocorreu porque, ao considerar a regra do vizinho ao lado, surgiram alguns casos de elementos que são vizinhos de pixeis do mesmo valor, o que não ocorreu quando consideramos a regra do vizinho de baixo. Isso pode ser visto pela diagonal da matriz $G_1$, que tem valores diferentes de 0 em algumas posições, enquanto a de $G_2$ só possui valores nulos.\n",
    "\n",
    "Na equação do contraste esses termos não alteram a somatória, uma vez que quando $i=j$ temos que $(i-j)^2g_{ij}=0$. Com isso, a o valor da soma no primeiro caso foi menor que no segundo. "
   ]
  }
 ],
 "metadata": {
  "kernelspec": {
   "display_name": "Python 3",
   "language": "python",
   "name": "python3"
  },
  "language_info": {
   "codemirror_mode": {
    "name": "ipython",
    "version": 3
   },
   "file_extension": ".py",
   "mimetype": "text/x-python",
   "name": "python",
   "nbconvert_exporter": "python",
   "pygments_lexer": "ipython3",
   "version": "3.6.6"
  }
 },
 "nbformat": 4,
 "nbformat_minor": 4
}
